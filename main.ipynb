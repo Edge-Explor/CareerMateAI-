{
 "cells": [
  {
   "cell_type": "code",
   "execution_count": 1,
   "id": "913fdab5-154b-4f3e-9a48-cdd23b0514bd",
   "metadata": {},
   "outputs": [
    {
     "name": "stdout",
     "output_type": "stream",
     "text": [
      "Requirement already satisfied: fpdf in c:\\users\\asus\\onedrive\\desktop\\careermateai\\venv\\lib\\site-packages (1.7.2)\n"
     ]
    },
    {
     "name": "stderr",
     "output_type": "stream",
     "text": [
      "\n",
      "[notice] A new release of pip is available: 25.1.1 -> 25.2\n",
      "[notice] To update, run: python.exe -m pip install --upgrade pip\n"
     ]
    }
   ],
   "source": [
    "#!pip install langchain community\n",
    "#!pip install --upgrade langchain langchain-community\n",
    "#!pip install -U langchain langchain-ollama\n",
    "#!pip install fpdf\n",
    "#!pip install langchain_huggingface"
   ]
  },
  {
   "cell_type": "code",
   "execution_count": 2,
   "id": "dceac69a-b0bf-4b7d-a936-b9bb5ce200bb",
   "metadata": {},
   "outputs": [],
   "source": [
    "from langchain_ollama import OllamaLLM\n",
    "\n",
    "llm = OllamaLLM(model=\"llama3\")"
   ]
  },
  {
   "cell_type": "code",
   "execution_count": 3,
   "id": "08f40246-5df3-4456-b68a-9520d0fa9cbe",
   "metadata": {
    "scrolled": true
   },
   "outputs": [],
   "source": [
    "#llm.invoke(\"What are 3 high-demand tech careers in 2025?\")"
   ]
  },
  {
   "cell_type": "code",
   "execution_count": 4,
   "id": "bbae6b42-bf55-4092-acac-ba1bdb243261",
   "metadata": {},
   "outputs": [
    {
     "name": "stdout",
     "output_type": "stream",
     "text": [
      "✅ Sample PDF created!\n"
     ]
    }
   ],
   "source": [
    "from fpdf import FPDF\n",
    "\n",
    "pdf = FPDF()\n",
    "\n",
    "pdf.add_page()\n",
    "\n",
    "pdf.set_font(\"Arial\", size=12)\n",
    "\n",
    "pdf.multi_cell(0, 10, \"This is a sample career guide. Data science, cloud computing, and cybersecurity are top career paths in 2025.\")\n",
    "\n",
    "pdf.output(\"data/test_guide.pdf\")\n",
    "\n",
    "print(\"✅ Sample PDF created!\")"
   ]
  },
  {
   "cell_type": "code",
   "execution_count": 5,
   "id": "3cf1c1cc-9d89-43fd-b7cc-60fc9d469eb8",
   "metadata": {},
   "outputs": [],
   "source": [
    "import os\n",
    "\n",
    "from langchain_community.vectorstores import FAISS\n",
    "\n",
    "from langchain_huggingface import HuggingFaceEmbeddings\n",
    "\n",
    "from langchain.document_loaders import PyPDFLoader\n",
    "\n",
    "from langchain.text_splitter import RecursiveCharacterTextSplitter\n",
    "\n",
    "def load_or_create_vectorstore(data_dir=\"data\", db_path=\"embeddings/career_db\"):\n",
    "    \n",
    "    if os.path.exists(db_path):\n",
    "        \n",
    "        print(\" Found existing FAISS DB. Loading...\")\n",
    "        \n",
    "        return FAISS.load_local(\n",
    "            \n",
    "            db_path,\n",
    "            \n",
    "            HuggingFaceEmbeddings(model_name=\"all-MiniLM-L6-v2\"),\n",
    "            \n",
    "            allow_dangerous_deserialization=True\n",
    "            \n",
    "        )\n",
    "\n",
    "    print(\" No DB found. Loading PDFs and creating embeddings...\")\n",
    "\n",
    "    # Load PDFs\n",
    "    documents = []\n",
    "    \n",
    "    for filename in os.listdir(data_dir):\n",
    "        \n",
    "        if filename.endswith(\".pdf\"):\n",
    "            \n",
    "            loader = PyPDFLoader(os.path.join(data_dir, filename))\n",
    "            \n",
    "            documents.extend(loader.load())\n",
    "\n",
    "    if not documents:\n",
    "        \n",
    "        raise ValueError(\" No PDFs found in the 'data' folder!\")\n",
    "\n",
    "    # Split into chunks\n",
    "    splitter = RecursiveCharacterTextSplitter(chunk_size=1000, chunk_overlap=200)\n",
    "    \n",
    "    docs = splitter.split_documents(documents)\n",
    "\n",
    "    print(f\" Loaded and split into {len(docs)} chunks.\")\n",
    "\n",
    "    # Create FAISS vectorstore\n",
    "    embeddings = HuggingFaceEmbeddings(model_name=\"all-MiniLM-L6-v2\")\n",
    "    \n",
    "    db = FAISS.from_documents(docs, embeddings)\n",
    "    \n",
    "    db.save_local(db_path)\n",
    "    \n",
    "    print(\" FAISS DB created and saved.\")\n",
    "    \n",
    "    return db"
   ]
  },
  {
   "cell_type": "code",
   "execution_count": 8,
   "id": "3ec3b6e3-0e95-4870-95a0-cd785c0bba0a",
   "metadata": {
    "scrolled": true
   },
   "outputs": [
    {
     "name": "stdout",
     "output_type": "stream",
     "text": [
      " Found existing FAISS DB. Loading...\n",
      " Answer:\n",
      " According to the given context, the most important tech careers in 2025 are:\n",
      "\n",
      "Data Science\n",
      "Cloud Computing\n",
      "Cybersecurity\n"
     ]
    }
   ],
   "source": [
    "from langchain.chains import RetrievalQA\n",
    "\n",
    "from langchain_ollama import OllamaLLM\n",
    "\n",
    "# Load or create vector DB\n",
    "db = load_or_create_vectorstore()\n",
    "\n",
    "# Set up retriever and LLM\n",
    "retriever = db.as_retriever(search_kwargs={\"k\": 3})\n",
    "\n",
    "llm = OllamaLLM(model=\"llama3\")\n",
    "\n",
    "# Build QA chain\n",
    "qa_chain = RetrievalQA.from_chain_type(\n",
    "    \n",
    "    llm=llm,\n",
    "    \n",
    "    retriever=retriever,\n",
    "    \n",
    "    return_source_documents=True\n",
    "    \n",
    ")\n",
    "\n",
    "# Sample query\n",
    "query = \"What are the most important tech careers in 2025?\"\n",
    "\n",
    "response = qa_chain.invoke({\"query\": query})\n",
    "\n",
    "print(\" Answer:\\n\", response[\"result\"])"
   ]
  },
  {
   "cell_type": "code",
   "execution_count": null,
   "id": "7b9c475c-9230-4f78-bf00-0780676b6fdc",
   "metadata": {},
   "outputs": [],
   "source": []
  }
 ],
 "metadata": {
  "kernelspec": {
   "display_name": "Python 3 (ipykernel)",
   "language": "python",
   "name": "python3"
  },
  "language_info": {
   "codemirror_mode": {
    "name": "ipython",
    "version": 3
   },
   "file_extension": ".py",
   "mimetype": "text/x-python",
   "name": "python",
   "nbconvert_exporter": "python",
   "pygments_lexer": "ipython3",
   "version": "3.13.5"
  }
 },
 "nbformat": 4,
 "nbformat_minor": 5
}
